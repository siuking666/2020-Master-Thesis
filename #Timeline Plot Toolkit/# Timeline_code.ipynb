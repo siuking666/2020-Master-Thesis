{
 "cells": [
  {
   "cell_type": "code",
   "execution_count": null,
   "metadata": {},
   "outputs": [],
   "source": [
    "# Code that generates a progressive timeline map from FITS files and given positions\n",
    "\n",
    "import numpy as np\n",
    "import matplotlib\n",
    "import matplotlib.pyplot as plt\n",
    "import matplotlib.mlab as mlab\n",
    "import matplotlib.cm as cm\n",
    "import matplotlib.image as mpimg\n",
    "import matplotlib.patches as patches\n",
    "from astropy.utils.data import download_file\n",
    "from astropy.io import fits\n",
    "from pylab import *\n",
    "from optparse import OptionParser\n",
    "from matplotlib import gridspec\n",
    "from matplotlib.colors import LogNorm\n",
    "from matplotlib.patches import ConnectionPatch\n",
    "from mpl_toolkits.axes_grid1 import ImageGrid\n",
    "from PIL import Image\n",
    "import copy\n",
    "\n",
    "fig = plt.figure(figsize=(12, 12))\n",
    "\n",
    "########################\n",
    "\n",
    "\n",
    "\n",
    "\n",
    "########################\n",
    "\n",
    "plt.tight_layout()\n",
    "plt.subplots_adjust(wspace=-.6, hspace =.2)#,vspace= -.1)\n",
    "plt.savefig('#101 Timeline v1.png', dpi=500)#, bbox_inches='tight')\n",
    "plt.show()\n",
    "plt.close()\n",
    "\n"
   ]
  }
 ],
 "metadata": {
  "kernelspec": {
   "display_name": "Python 3",
   "language": "python",
   "name": "python3"
  },
  "language_info": {
   "codemirror_mode": {
    "name": "ipython",
    "version": 3
   },
   "file_extension": ".py",
   "mimetype": "text/x-python",
   "name": "python",
   "nbconvert_exporter": "python",
   "pygments_lexer": "ipython3",
   "version": "3.7.6"
  }
 },
 "nbformat": 4,
 "nbformat_minor": 4
}
