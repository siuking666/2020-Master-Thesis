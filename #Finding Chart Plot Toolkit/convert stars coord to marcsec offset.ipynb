{
 "cells": [
  {
   "cell_type": "code",
   "execution_count": 5,
   "metadata": {},
   "outputs": [],
   "source": [
    "## Specify epoch & respective SagA* coordinates\n",
    "## The code then converts all given objects' pixel-coordinates to marcsec offsets\n",
    "\n",
    "epoch = 2009.718\n",
    "sagA_coordinate_x = 709.78\n",
    "sagA_coordinate_y = 722.53\n",
    "\n",
    "star_positions = open(\"input.txt\", \"r\")\n",
    "output = open(\"output.txt\", \"w+\")\n",
    "\n",
    "################################################\n",
    "\n",
    "star_name = []\n",
    "obj_coord_x = []\n",
    "obj_coord_y = []\n",
    "calculated_offset_pix_x = []\n",
    "calculated_offset_pix_y = []\n",
    "   \n",
    "## Auto Object coordinates calculation from Offset\n",
    "\n",
    "## position file contains the offset of object in marcsec\n",
    "## Import the offsets as pixel unit\n",
    "\n",
    "for line in star_positions.readlines():\n",
    "    star_coord = line.replace(\"\\n\", \"\").split(\"\\t\")\n",
    "    star_name.append(str(star_coord[0]))\n",
    "    obj_coord_x.append((((float(star_coord[1])))))\n",
    "    obj_coord_y.append((((float(star_coord[2])))))\n",
    "    \n",
    "## Calculate the object coordinates:\n",
    "\n",
    "i = 0\n",
    "for item in star_name:\n",
    "    calc_x = (obj_coord_x[i] - sagA_coordinate_x)*-13.3\n",
    "    calc_y = (obj_coord_y[i] - sagA_coordinate_y)*13.3\n",
    "    calculated_offset_pix_x.append(round(calc_x, 2))\n",
    "    calculated_offset_pix_y.append(round(calc_y, 2))\n",
    "    i += 1    \n",
    "\n",
    "j=0\n",
    "for item in star_name:\n",
    "    output.writelines(str(item) + \"\\t\" + str(calculated_offset_pix_x[j]) + \"\\t\" + str(calculated_offset_pix_y[j]) + \"\\n\")\n",
    "    j += 1\n",
    "    \n",
    "star_positions.close()\n",
    "output.close()\n",
    "\n",
    "################################################\n",
    "# input example:\n",
    "# S25\t171\t121\n",
    "# S7\t125.5\t148\n",
    "# S59\t178\t170\n",
    "# S54\t155\t141.5"
   ]
  },
  {
   "cell_type": "code",
   "execution_count": null,
   "metadata": {},
   "outputs": [],
   "source": []
  }
 ],
 "metadata": {
  "kernelspec": {
   "display_name": "Python 3",
   "language": "python",
   "name": "python3"
  },
  "language_info": {
   "codemirror_mode": {
    "name": "ipython",
    "version": 3
   },
   "file_extension": ".py",
   "mimetype": "text/x-python",
   "name": "python",
   "nbconvert_exporter": "python",
   "pygments_lexer": "ipython3",
   "version": "3.7.6"
  }
 },
 "nbformat": 4,
 "nbformat_minor": 4
}
