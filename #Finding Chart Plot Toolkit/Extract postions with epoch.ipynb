{
 "cells": [
  {
   "cell_type": "code",
   "execution_count": 21,
   "metadata": {},
   "outputs": [
    {
     "name": "stdout",
     "output_type": "stream",
     "text": [
      "1\t2008.598 55.78701562 71.37169958\n",
      "2\t2008.598 -162.3329844 55.67769958\n",
      "3\t2008.598 44.08301562 -94.87830042\n",
      "4\t2008.598 -123.8959844 134.5466996\n",
      "5\t2008.598 -114.9849844 22.16169958\n",
      "115\t\n",
      "117\t\n",
      "8\t2008.598 -116.1755 -95.5472\n",
      "9\t2008.598 -89.7085 -161.3822\n",
      "10\t2008.598 -157.4055 -183.7262\n",
      "11\t2008.598 70.6895 -198.2232\n",
      "12\t2008.598 37.0405 -259.8022\n",
      "13\t2008.598 -34.6465 -232.0052\n",
      "101\t2008.598 523.9535 196.1218\n",
      "102\t2008.598 428.3265 24.0198\n",
      "103\t2008.598 329.3745 -75.0652\n",
      "104\t2008.598 354.7775 -1.9152\n",
      "105\t2008.598 491.6345 -157.3922\n",
      "106\t\n",
      "107\t2008.598 312.8825 -210.9912\n",
      "108\t\n",
      "109\t2008.598 267.2635 -444.4062\n",
      "111\t2008.598 -265.0025 36.2558\n",
      "112\t2008.598 -437.3705 79.3478\n",
      "113\t\n",
      "114\t\n",
      "116\t2008.598 -411.5685 -199.9522\n",
      "301\t2008.598 286.6815 21.0938\n",
      "304\t\n"
     ]
    }
   ],
   "source": [
    "epoch = \"2008.598\"\n",
    "\n",
    "#==============================================\n",
    "candidates = open(\"candidates.txt\", \"r\") \n",
    "out = open(str(epoch) + \" candidates positions.txt\", \"w+\") \n",
    "\n",
    "\n",
    "for cand in candidates.readlines():\n",
    "    cand1 = cand.replace(\"\\n\", \"\")\n",
    "    file = open(str(cand1) + \"_condensed.txt\", \"r\") \n",
    "\n",
    "    for line in file.readlines():\n",
    "        line_entries = line.split(\"\\t\")\n",
    "        if line_entries[0] == epoch:\n",
    "            break\n",
    "    \n",
    "    if line_entries[0] == epoch:\n",
    "        print(cand.replace(\"\\n\", \"\\t\") + line_entries[0], line_entries[1], line_entries[2])\n",
    "        out.writelines(cand.replace(\"\\n\", \"\\t\") + line_entries[0] + \"\\t\" + line_entries[1] + \"\\t\" + line_entries[2] + \"\\n\")\n",
    "    else:\n",
    "        print(cand.replace(\"\\n\", \"\\t\"))\n",
    "        out.writelines(cand.replace(\"\\n\", \"\\t\") + \"\\n\")\n",
    "        \n",
    "    file.close()\n",
    "\n",
    "candidates.close()\n",
    "out.close()    "
   ]
  },
  {
   "cell_type": "code",
   "execution_count": null,
   "metadata": {},
   "outputs": [],
   "source": []
  }
 ],
 "metadata": {
  "kernelspec": {
   "display_name": "Python 3",
   "language": "python",
   "name": "python3"
  },
  "language_info": {
   "codemirror_mode": {
    "name": "ipython",
    "version": 3
   },
   "file_extension": ".py",
   "mimetype": "text/x-python",
   "name": "python",
   "nbconvert_exporter": "python",
   "pygments_lexer": "ipython3",
   "version": "3.7.6"
  }
 },
 "nbformat": 4,
 "nbformat_minor": 4
}
